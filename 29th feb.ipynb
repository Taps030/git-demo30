{
 "cells": [
  {
   "cell_type": "code",
   "execution_count": 1,
   "id": "50608b66",
   "metadata": {},
   "outputs": [
    {
     "name": "stdout",
     "output_type": "stream",
     "text": [
      "3\n"
     ]
    }
   ],
   "source": [
    "#program for adding two numbers\n",
    "a=1\n",
    "b=2\n",
    "print(a+b)"
   ]
  },
  {
   "cell_type": "code",
   "execution_count": 2,
   "id": "e36b5989",
   "metadata": {},
   "outputs": [
    {
     "name": "stdout",
     "output_type": "stream",
     "text": [
      "b is greater\n"
     ]
    }
   ],
   "source": [
    "#maximum of two numbers\n",
    "a=44\n",
    "b=88\n",
    "if a>b:\n",
    "    print(\"a is greater\")\n",
    "else:\n",
    "    print(\"b is greater\")"
   ]
  },
  {
   "cell_type": "code",
   "execution_count": 3,
   "id": "afbfec31",
   "metadata": {},
   "outputs": [
    {
     "name": "stdout",
     "output_type": "stream",
     "text": [
      "Enter a number: 6\n",
      "The factorial of 6 is 720\n"
     ]
    }
   ],
   "source": [
    "# python program for factorial of a number\n",
    "def factorial(n):\n",
    "    if n == 0:\n",
    "        return 1\n",
    "    else:\n",
    "        return n * factorial(n-1)\n",
    "\n",
    "# Input\n",
    "num = int(input(\"Enter a number: \"))\n",
    "\n",
    "# Checking if the number is negative\n",
    "if num < 0:\n",
    "    print(\"Factorial is not defined for negative numbers.\")\n",
    "elif num == 0:\n",
    "    print(\"The factorial of 0 is 1.\")\n",
    "else:\n",
    "    print(\"The factorial of\", num, \"is\", factorial(num))\n"
   ]
  },
  {
   "cell_type": "code",
   "execution_count": 4,
   "id": "39da6de9",
   "metadata": {},
   "outputs": [
    {
     "name": "stdout",
     "output_type": "stream",
     "text": [
      "Enter the principal amount: 1000\n",
      "Enter the interest rate (in percentage): 12\n",
      "Enter the time period (in years): 10\n",
      "Simple interest: 1200.0\n"
     ]
    }
   ],
   "source": [
    "# python program for simple interest \n",
    "def simple_interest(principal, rate, time):\n",
    "    interest = (principal * rate * time) / 100\n",
    "    return interest\n",
    "\n",
    "# Input\n",
    "principal = float(input(\"Enter the principal amount: \"))\n",
    "rate = float(input(\"Enter the interest rate (in percentage): \"))\n",
    "time = float(input(\"Enter the time period (in years): \"))\n",
    "\n",
    "# Calculating simple interest\n",
    "interest = simple_interest(principal, rate, time)\n",
    "\n",
    "# Displaying the result\n",
    "print(\"Simple interest:\", interest)\n"
   ]
  },
  {
   "cell_type": "code",
   "execution_count": 7,
   "id": "0b7cbec8",
   "metadata": {},
   "outputs": [
    {
     "name": "stdout",
     "output_type": "stream",
     "text": [
      "Enter the principal amount: 1000\n",
      "Enter the annual interest rate (in percentage): 12\n",
      "Enter the time period (in years): 10\n",
      "Compound interest: 2300.3868945736685\n"
     ]
    }
   ],
   "source": [
    "#python program for compund interest\n",
    "def compound_interest(principal, rate, time):\n",
    "    \n",
    "    n = 12 \n",
    "    amount = principal * (pow((1 + rate / (100 * n)), (n * time)))\n",
    "    interest = amount - principal\n",
    "    return interest\n",
    "\n",
    "# Input\n",
    "principal = float(input(\"Enter the principal amount: \"))\n",
    "rate = float(input(\"Enter the annual interest rate (in percentage): \"))\n",
    "time = float(input(\"Enter the time period (in years): \"))\n",
    "\n",
    "# Calculating compound interest\n",
    "interest = compound_interest(principal, rate, time)\n",
    "\n",
    "# Displaying the result\n",
    "print(\"Compound interest:\", interest)\n",
    "\n"
   ]
  },
  {
   "cell_type": "code",
   "execution_count": 8,
   "id": "7c2f7f32",
   "metadata": {},
   "outputs": [
    {
     "name": "stdout",
     "output_type": "stream",
     "text": [
      "Enter a number: 1000\n",
      "1000 is not an Armstrong number.\n"
     ]
    }
   ],
   "source": [
    "#python program for amrstrong number\n",
    "def is_armstrong(num):\n",
    "    # Converting the number to a string to find its length\n",
    "    num_str = str(num)\n",
    "    # Calculating the number of digits\n",
    "    num_digits = len(num_str)\n",
    "    # Initializing sum to store the result\n",
    "    sum = 0\n",
    "    # Calculating sum of nth power of each digit\n",
    "    for digit in num_str:\n",
    "        sum += int(digit) ** num_digits\n",
    "    # Checking if the number is equal to the sum of nth power of its digits\n",
    "    if num == sum:\n",
    "        return True\n",
    "    else:\n",
    "        return False\n",
    "\n",
    "# Input\n",
    "number = int(input(\"Enter a number: \"))\n",
    "\n",
    "# Checking if the number is an Armstrong number\n",
    "if is_armstrong(number):\n",
    "    print(number, \"is an Armstrong number.\")\n",
    "else:\n",
    "    print(number, \"is not an Armstrong number.\")\n"
   ]
  },
  {
   "cell_type": "code",
   "execution_count": 9,
   "id": "a3d1f9a3",
   "metadata": {},
   "outputs": [
    {
     "name": "stdout",
     "output_type": "stream",
     "text": [
      "Enter the radius of the circle: 5\n",
      "The area of the circle with radius 5.0 is: 78.53981633974483\n"
     ]
    }
   ],
   "source": [
    "#python program to find area of a circle\n",
    "import math\n",
    "\n",
    "def calculate_area(radius):\n",
    "    area = math.pi * radius ** 2\n",
    "    return area\n",
    "\n",
    "# Input\n",
    "radius = float(input(\"Enter the radius of the circle: \"))\n",
    "\n",
    "# Calculating the area\n",
    "area = calculate_area(radius)\n",
    "\n",
    "# Displaying the result\n",
    "print(\"The area of the circle with radius\", radius, \"is:\", area)\n"
   ]
  },
  {
   "cell_type": "code",
   "execution_count": 16,
   "id": "b6c3de51",
   "metadata": {},
   "outputs": [
    {
     "name": "stdout",
     "output_type": "stream",
     "text": [
      "Enter the lower limit: 5\n",
      "Enter the upper limit: 33\n",
      "Prime numbers between 5 and 33 are:\n",
      "5\n",
      "7\n",
      "9\n",
      "11\n",
      "13\n",
      "15\n",
      "17\n",
      "19\n",
      "21\n",
      "23\n",
      "25\n",
      "27\n",
      "29\n",
      "31\n",
      "33\n"
     ]
    }
   ],
   "source": [
    "#python program to print all prime numbers in an interval\n",
    "def is_prime(num):\n",
    "    if num <= 1:\n",
    "        return False\n",
    "    for i in range(2, int(num/2) + 1):\n",
    "        if num % i == 0:\n",
    "            return False\n",
    "        return True\n",
    "\n",
    "lower = int(input(\"Enter the lower limit: \"))\n",
    "upper = int(input(\"Enter the upper limit: \"))\n",
    "\n",
    "print(\"Prime numbers between\", lower, \"and\", upper, \"are:\")\n",
    "\n",
    "for num in range(lower, upper + 1):\n",
    "    if is_prime(num):\n",
    "        print(num)\n"
   ]
  },
  {
   "cell_type": "code",
   "execution_count": 17,
   "id": "9542c9dc",
   "metadata": {},
   "outputs": [
    {
     "name": "stdout",
     "output_type": "stream",
     "text": [
      "Prime\n"
     ]
    }
   ],
   "source": [
    "#python program to identify a number prime or not\n",
    "num = 7\n",
    "flag = 0\n",
    "if num<2:\n",
    "  flag = 1\n",
    "else:\n",
    "  for i in range(2,int(pow(num,0.5)+1)):\n",
    "    if num%i==0:\n",
    "      flag = 1\n",
    "      break\n",
    "\n",
    "if flag == 1:\n",
    "    print('Not Prime')\n",
    "else:\n",
    "    print(\"Prime\")"
   ]
  },
  {
   "cell_type": "code",
   "execution_count": 18,
   "id": "ec73e1eb",
   "metadata": {},
   "outputs": [
    {
     "name": "stdout",
     "output_type": "stream",
     "text": [
      "Enter the value of n to find the nth Fibonacci number: 3\n",
      "The 3 th Fibonacci number is: 1\n"
     ]
    }
   ],
   "source": [
    "#python programing for nth fibonacci number\n",
    "def fibonacci(n):\n",
    "    if n <= 0:\n",
    "        print(\"Invalid input. Please enter a positive integer.\")\n",
    "        return None\n",
    "    elif n == 1:\n",
    "        return 0\n",
    "    elif n == 2:\n",
    "        return 1\n",
    "    else:\n",
    "        fib_sequence = [0, 1]  # Initialize Fibonacci sequence with first two numbers\n",
    "        for i in range(2, n):\n",
    "            next_fib = fib_sequence[-1] + fib_sequence[-2]\n",
    "            fib_sequence.append(next_fib)\n",
    "        return fib_sequence[-1]\n",
    "\n",
    "# Input\n",
    "n = int(input(\"Enter the value of n to find the nth Fibonacci number: \"))\n",
    "\n",
    "# Finding the nth Fibonacci number\n",
    "result = fibonacci(n)\n",
    "if result is not None:\n",
    "    print(\"The\", n, \"th Fibonacci number is:\", result)\n",
    "\n"
   ]
  },
  {
   "cell_type": "code",
   "execution_count": null,
   "id": "fd662922",
   "metadata": {},
   "outputs": [],
   "source": []
  }
 ],
 "metadata": {
  "kernelspec": {
   "display_name": "Python 3 (ipykernel)",
   "language": "python",
   "name": "python3"
  },
  "language_info": {
   "codemirror_mode": {
    "name": "ipython",
    "version": 3
   },
   "file_extension": ".py",
   "mimetype": "text/x-python",
   "name": "python",
   "nbconvert_exporter": "python",
   "pygments_lexer": "ipython3",
   "version": "3.9.12"
  }
 },
 "nbformat": 4,
 "nbformat_minor": 5
}
